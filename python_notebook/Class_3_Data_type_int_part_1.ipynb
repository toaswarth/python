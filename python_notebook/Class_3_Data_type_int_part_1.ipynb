{
 "cells": [
  {
   "cell_type": "code",
   "execution_count": 10,
   "id": "595eaf81",
   "metadata": {},
   "outputs": [
    {
     "name": "stdout",
     "output_type": "stream",
     "text": [
      "10\n",
      "20\n"
     ]
    }
   ],
   "source": [
    "a = 10\n",
    "b = 20\n",
    "print(a)\n",
    "print(b)"
   ]
  },
  {
   "cell_type": "code",
   "execution_count": 11,
   "id": "044b42d3",
   "metadata": {},
   "outputs": [
    {
     "name": "stdout",
     "output_type": "stream",
     "text": [
      "10 20\n"
     ]
    }
   ],
   "source": [
    "a = 10\n",
    "b = 20\n",
    "print(a,b)"
   ]
  },
  {
   "cell_type": "code",
   "execution_count": 12,
   "id": "1f84a67d",
   "metadata": {},
   "outputs": [
    {
     "name": "stdout",
     "output_type": "stream",
     "text": [
      "10##20\n"
     ]
    }
   ],
   "source": [
    "a = 10\n",
    "b = 20\n",
    "print(a,b, sep = '##')"
   ]
  },
  {
   "cell_type": "code",
   "execution_count": 15,
   "id": "ebe130e7",
   "metadata": {},
   "outputs": [
    {
     "name": "stdout",
     "output_type": "stream",
     "text": [
      "10-->20-->30\n"
     ]
    }
   ],
   "source": [
    "a = 10\n",
    "b = 20\n",
    "c = 30\n",
    "print(a,b,c, sep = '-->')"
   ]
  },
  {
   "cell_type": "code",
   "execution_count": 16,
   "id": "3ecda0f0",
   "metadata": {},
   "outputs": [
    {
     "name": "stdout",
     "output_type": "stream",
     "text": [
      "Hellow \n",
      "World\n"
     ]
    }
   ],
   "source": [
    "a = \"Hellow \\nWorld\"\n",
    "print(a)"
   ]
  },
  {
   "cell_type": "code",
   "execution_count": 17,
   "id": "0ce0f331",
   "metadata": {},
   "outputs": [
    {
     "name": "stdout",
     "output_type": "stream",
     "text": [
      "10\n",
      "20\n",
      "30\n"
     ]
    }
   ],
   "source": [
    "a = 10\n",
    "b = 20\n",
    "c = 30\n",
    "print(a,b,c, sep = '\\n')"
   ]
  },
  {
   "cell_type": "code",
   "execution_count": 19,
   "id": "e914fc37",
   "metadata": {},
   "outputs": [
    {
     "name": "stdout",
     "output_type": "stream",
     "text": [
      "10-->Hellow\n",
      "World\n"
     ]
    }
   ],
   "source": [
    "a = 10\n",
    "b = 20\n",
    "c = 30\n",
    "print(a, end = \"-->\")\n",
    "print(\"Hellow\")\n",
    "print(\"World\")"
   ]
  },
  {
   "cell_type": "code",
   "execution_count": 23,
   "id": "d1cc9adc",
   "metadata": {},
   "outputs": [
    {
     "name": "stdout",
     "output_type": "stream",
     "text": [
      "10+++20---30\n",
      "40 50**10&&20&&50$$World\n"
     ]
    }
   ],
   "source": [
    "a = 10\n",
    "b = 20\n",
    "c = 30\n",
    "d = 40\n",
    "e = 50\n",
    "\n",
    "print(a,b, sep = '+++', end ='---')\n",
    "print(c, sep='%%')\n",
    "print(d, e, end ='**')\n",
    "print(a,b, e, sep='&&', end ='$$')\n",
    "print('World')"
   ]
  },
  {
   "cell_type": "markdown",
   "id": "a3f2235a",
   "metadata": {},
   "source": [
    "# Int"
   ]
  },
  {
   "cell_type": "code",
   "execution_count": 35,
   "id": "523e0d0e",
   "metadata": {},
   "outputs": [
    {
     "name": "stdout",
     "output_type": "stream",
     "text": [
      "14\n",
      "8\n",
      "33\n",
      "3.6666666666666665\n",
      "3\n",
      "1331\n",
      "2\n"
     ]
    }
   ],
   "source": [
    "a = 11\n",
    "b = 3\n",
    "print(a + b)\n",
    "print(a - b)\n",
    "print(a * b)\n",
    "print(a / b) # float division\n",
    "print(a // b) # floor division value\n",
    "print(a ** b) # exponent\n",
    "print(a % b) # modulo"
   ]
  },
  {
   "cell_type": "markdown",
   "id": "607f3d3c",
   "metadata": {},
   "source": [
    "# Comparision Operators\n",
    ">, <, >=, <=\n",
    "- always retuns true or false"
   ]
  },
  {
   "cell_type": "code",
   "execution_count": 37,
   "id": "2f492142",
   "metadata": {},
   "outputs": [
    {
     "name": "stdout",
     "output_type": "stream",
     "text": [
      "True\n",
      "False\n",
      "True\n",
      "False\n"
     ]
    }
   ],
   "source": [
    "a = -10\n",
    "b = -60\n",
    "print(a > b)\n",
    "print(a < b)\n",
    "print(a >= b)\n",
    "print(a <= b)\n"
   ]
  },
  {
   "cell_type": "code",
   "execution_count": 39,
   "id": "d210208e",
   "metadata": {},
   "outputs": [
    {
     "name": "stdout",
     "output_type": "stream",
     "text": [
      "False\n",
      "True\n",
      "False\n",
      "True\n",
      "False\n"
     ]
    }
   ],
   "source": [
    "a = \"ABCDEFGH\"\n",
    "b = \"abc\"\n",
    "print(a > b)\n",
    "print(a < b)\n",
    "print(a >= b)\n",
    "print(a <= b)\n",
    "print(a == b)"
   ]
  },
  {
   "cell_type": "markdown",
   "id": "5d547476",
   "metadata": {},
   "source": [
    "# TO find the ASCII -- > Ord"
   ]
  },
  {
   "cell_type": "code",
   "execution_count": 41,
   "id": "0c4197dd",
   "metadata": {},
   "outputs": [
    {
     "data": {
      "text/plain": [
       "115"
      ]
     },
     "execution_count": 41,
     "metadata": {},
     "output_type": "execute_result"
    }
   ],
   "source": [
    "ord('s') # ord a function to convert character to ascii"
   ]
  },
  {
   "cell_type": "code",
   "execution_count": 48,
   "id": "42f3dd3e",
   "metadata": {},
   "outputs": [
    {
     "name": "stdout",
     "output_type": "stream",
     "text": [
      "0b1100001\n"
     ]
    }
   ],
   "source": [
    "a = bin(ord('a')) # bin a function to convert ascii to binary\n",
    "print(a)"
   ]
  },
  {
   "cell_type": "code",
   "execution_count": 60,
   "id": "052f35d8",
   "metadata": {},
   "outputs": [
    {
     "data": {
      "text/plain": [
       "97"
      ]
     },
     "execution_count": 60,
     "metadata": {},
     "output_type": "execute_result"
    }
   ],
   "source": [
    "int(0b1100001) # int a function to convert binary to integer"
   ]
  },
  {
   "cell_type": "markdown",
   "id": "aa9de0db",
   "metadata": {},
   "source": [
    "# To convert Ascii to Char"
   ]
  },
  {
   "cell_type": "code",
   "execution_count": 61,
   "id": "75bdfd5d",
   "metadata": {},
   "outputs": [
    {
     "data": {
      "text/plain": [
       "'C'"
      ]
     },
     "execution_count": 61,
     "metadata": {},
     "output_type": "execute_result"
    }
   ],
   "source": [
    "chr(67)"
   ]
  },
  {
   "cell_type": "markdown",
   "id": "18c4f4f7",
   "metadata": {},
   "source": [
    "# Equality operators\n",
    "==, !="
   ]
  },
  {
   "cell_type": "code",
   "execution_count": 62,
   "id": "497683d0",
   "metadata": {},
   "outputs": [
    {
     "name": "stdout",
     "output_type": "stream",
     "text": [
      "False\n",
      "True\n"
     ]
    }
   ],
   "source": [
    "a = 10\n",
    "b = 20\n",
    "print(a == b)\n",
    "print(a != b)"
   ]
  },
  {
   "cell_type": "code",
   "execution_count": null,
   "id": "e54fdeb0",
   "metadata": {},
   "outputs": [],
   "source": []
  }
 ],
 "metadata": {
  "kernelspec": {
   "display_name": "Python 3 (ipykernel)",
   "language": "python",
   "name": "python3"
  },
  "language_info": {
   "codemirror_mode": {
    "name": "ipython",
    "version": 3
   },
   "file_extension": ".py",
   "mimetype": "text/x-python",
   "name": "python",
   "nbconvert_exporter": "python",
   "pygments_lexer": "ipython3",
   "version": "3.11.5"
  }
 },
 "nbformat": 4,
 "nbformat_minor": 5
}
