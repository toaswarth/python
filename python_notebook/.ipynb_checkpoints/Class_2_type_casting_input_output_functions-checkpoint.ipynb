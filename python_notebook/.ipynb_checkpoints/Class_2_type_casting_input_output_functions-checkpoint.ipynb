{
 "cells": [
  {
   "cell_type": "markdown",
   "id": "d2f9ffda",
   "metadata": {},
   "source": [
    "# Type Casting \n",
    "- converting one data type to another data type\n"
   ]
  },
  {
   "cell_type": "code",
   "execution_count": 2,
   "id": "e3215e77",
   "metadata": {},
   "outputs": [
    {
     "name": "stdout",
     "output_type": "stream",
     "text": [
      "90.0 <class 'float'>\n"
     ]
    }
   ],
   "source": [
    "# 1st type casting\n",
    "# float is assinged into a\n",
    "\n",
    "a = float(90)\n",
    "print(a, type(a))"
   ]
  },
  {
   "cell_type": "code",
   "execution_count": 3,
   "id": "7063a268",
   "metadata": {},
   "outputs": [
    {
     "name": "stdout",
     "output_type": "stream",
     "text": [
      "90.0 <class 'float'>\n"
     ]
    }
   ],
   "source": [
    "print(a, type(a))"
   ]
  },
  {
   "cell_type": "code",
   "execution_count": 4,
   "id": "cd47c755",
   "metadata": {},
   "outputs": [
    {
     "name": "stdout",
     "output_type": "stream",
     "text": [
      "90.0 <class 'float'>\n"
     ]
    }
   ],
   "source": [
    "# 2nd type casting\n",
    "# float is assinged into a in print\n",
    "\n",
    "a = 90\n",
    "print(float(a), type(float(a)))"
   ]
  },
  {
   "cell_type": "code",
   "execution_count": 5,
   "id": "f1ede8ae",
   "metadata": {},
   "outputs": [
    {
     "name": "stdout",
     "output_type": "stream",
     "text": [
      "90 <class 'int'>\n"
     ]
    }
   ],
   "source": [
    "print(a, type(a))"
   ]
  },
  {
   "cell_type": "code",
   "execution_count": 23,
   "id": "9ed1a27c",
   "metadata": {},
   "outputs": [
    {
     "name": "stdout",
     "output_type": "stream",
     "text": [
      "90 <class 'int'>\n"
     ]
    }
   ],
   "source": [
    "a = int(90.1235)\n",
    "print(a, type(a))"
   ]
  },
  {
   "cell_type": "code",
   "execution_count": 24,
   "id": "5687d6c1",
   "metadata": {},
   "outputs": [
    {
     "name": "stdout",
     "output_type": "stream",
     "text": [
      "90.12 <class 'float'>\n"
     ]
    }
   ],
   "source": [
    "a = round(90.1235, 2)\n",
    "print(a, type(a))"
   ]
  },
  {
   "cell_type": "code",
   "execution_count": 25,
   "id": "79b0a6f6",
   "metadata": {},
   "outputs": [
    {
     "name": "stdout",
     "output_type": "stream",
     "text": [
      "True <class 'bool'>\n"
     ]
    }
   ],
   "source": [
    "a = bool(55) # any int > 0 will be true\n",
    "print(a, type(a))"
   ]
  },
  {
   "cell_type": "code",
   "execution_count": 26,
   "id": "a36b522a",
   "metadata": {},
   "outputs": [
    {
     "name": "stdout",
     "output_type": "stream",
     "text": [
      "False <class 'bool'>\n"
     ]
    }
   ],
   "source": [
    "a = bool(0) # any int = 0 will be false\n",
    "print(a, type(a))"
   ]
  },
  {
   "cell_type": "code",
   "execution_count": 27,
   "id": "05127dc0",
   "metadata": {},
   "outputs": [
    {
     "name": "stdout",
     "output_type": "stream",
     "text": [
      "True <class 'bool'>\n"
     ]
    }
   ],
   "source": [
    "a = bool(55.23) # any float > 0 will be true\n",
    "print(a, type(a))"
   ]
  },
  {
   "cell_type": "code",
   "execution_count": 28,
   "id": "b9e5bf69",
   "metadata": {},
   "outputs": [
    {
     "name": "stdout",
     "output_type": "stream",
     "text": [
      "False <class 'bool'>\n"
     ]
    }
   ],
   "source": [
    "a = bool(0.0) # any float = 0 will be false\n",
    "print(a, type(a))"
   ]
  },
  {
   "cell_type": "code",
   "execution_count": 32,
   "id": "8e8d08aa",
   "metadata": {},
   "outputs": [
    {
     "name": "stdout",
     "output_type": "stream",
     "text": [
      "True <class 'bool'>\n"
     ]
    }
   ],
   "source": [
    "a = bool(10+8j) # any complex > 0 will be true\n",
    "print(a, type(a))"
   ]
  },
  {
   "cell_type": "code",
   "execution_count": 29,
   "id": "928dc920",
   "metadata": {},
   "outputs": [
    {
     "name": "stdout",
     "output_type": "stream",
     "text": [
      "False <class 'bool'>\n"
     ]
    }
   ],
   "source": [
    "a = bool(0+0j) # any complex = 0 will be true\n",
    "print(a, type(a))"
   ]
  },
  {
   "cell_type": "code",
   "execution_count": 30,
   "id": "e1268eb8",
   "metadata": {},
   "outputs": [
    {
     "name": "stdout",
     "output_type": "stream",
     "text": [
      "True <class 'bool'>\n"
     ]
    }
   ],
   "source": [
    "a = bool(\"test\") # string will be true\n",
    "print(a, type(a))"
   ]
  },
  {
   "cell_type": "code",
   "execution_count": 31,
   "id": "3dac1c03",
   "metadata": {},
   "outputs": [
    {
     "name": "stdout",
     "output_type": "stream",
     "text": [
      "False <class 'bool'>\n"
     ]
    }
   ],
   "source": [
    "a = bool(\"\") # empty string will be flase\n",
    "print(a, type(a))"
   ]
  },
  {
   "cell_type": "code",
   "execution_count": 37,
   "id": "7dcd00f2",
   "metadata": {},
   "outputs": [
    {
     "name": "stdout",
     "output_type": "stream",
     "text": [
      "toaswarth@gmail.com\n",
      "email ids found ['toaswarth@gmail.com']\n"
     ]
    }
   ],
   "source": [
    "lst =[\"toaswarth@gmail.com\", \"toaswarth@hotmail.com\", \"toaswarth@rediffmail.com\", \"toaswarth@yahoo.com\"]\n",
    "e_list = []\n",
    "for i in lst:\n",
    "    if i.endswith(\"gmail.com\"):\n",
    "        e_list.append(i)\n",
    "        print(i)\n",
    "else:\n",
    "    if bool(e_list):\n",
    "        print(\"email ids found\", e_list)\n",
    "    else:\n",
    "        print(\"no email ids\")"
   ]
  },
  {
   "cell_type": "code",
   "execution_count": 41,
   "id": "616f7858",
   "metadata": {},
   "outputs": [
    {
     "name": "stdout",
     "output_type": "stream",
     "text": [
      "123 <class 'int'>\n"
     ]
    }
   ],
   "source": [
    "a = int(float(\"123.8888\"))\n",
    "\n",
    "print (a, type(a))\n"
   ]
  },
  {
   "cell_type": "code",
   "execution_count": 49,
   "id": "82b7bee0",
   "metadata": {},
   "outputs": [
    {
     "name": "stdout",
     "output_type": "stream",
     "text": [
      "Enter a value : 1234\n",
      "1234 <class 'str'>\n"
     ]
    }
   ],
   "source": [
    "# Input Function; it will always takes as string data type\n",
    "\n",
    "a = input(\"Enter a value : \")\n",
    "print(a, type(a))\n"
   ]
  },
  {
   "cell_type": "code",
   "execution_count": 51,
   "id": "3d97ffe3",
   "metadata": {},
   "outputs": [
    {
     "name": "stdout",
     "output_type": "stream",
     "text": [
      "Enter a value : 10\n",
      "Enter a value : 20\n",
      "30\n"
     ]
    }
   ],
   "source": [
    "a = int(input(\"Enter a value : \"))\n",
    "b = int(input(\"Enter a value : \"))\n",
    "c = a+b\n",
    "print(c, type(c))"
   ]
  },
  {
   "cell_type": "code",
   "execution_count": 52,
   "id": "9010983c",
   "metadata": {},
   "outputs": [
    {
     "name": "stdout",
     "output_type": "stream",
     "text": [
      "Enter a value : 10\n",
      "Enter a value : 20.123\n",
      "30.123\n"
     ]
    }
   ],
   "source": [
    "a = eval(input(\"Enter a value : \"))\n",
    "b = eval(input(\"Enter a value : \"))\n",
    "c = a+b\n",
    "print(c, type(c))\n"
   ]
  },
  {
   "cell_type": "code",
   "execution_count": 68,
   "id": "0d52dbfc",
   "metadata": {},
   "outputs": [
    {
     "name": "stdout",
     "output_type": "stream",
     "text": [
      "Enter a mobile number : 9133888400\n",
      "Not a number\n"
     ]
    }
   ],
   "source": [
    "a = str(int(input(\"Enter a mobile number : \"))) # it is restricted to enter only int value\n",
    "if type(a) == int:\n",
    "    print(\"Is a number\")\n",
    "    print(\"+91-\"+ str(a))\n",
    "else:\n",
    "    print(\"Not a number\")\n"
   ]
  },
  {
   "cell_type": "code",
   "execution_count": 69,
   "id": "fbe9ef5b",
   "metadata": {},
   "outputs": [
    {
     "name": "stdout",
     "output_type": "stream",
     "text": [
      "Enter a mobile number : 913388400\n",
      "+91-913388400\n"
     ]
    }
   ],
   "source": [
    "a = str(eval(input(\"Enter a mobile number : \"))) # there is no restriction if we use eval it will take any value\n",
    "print(\"+91-\"+ str(a))"
   ]
  },
  {
   "cell_type": "code",
   "execution_count": 73,
   "id": "2bd60ba0",
   "metadata": {},
   "outputs": [
    {
     "name": "stdout",
     "output_type": "stream",
     "text": [
      "Enter a Name : Aswartha\n",
      "Enter a mobile number : 9133888400\n",
      "My name is Aswartha and My mobile number is 9133888400\n"
     ]
    }
   ],
   "source": [
    "# contatinating string + integier\n",
    "a = str((input(\"Enter a Name : \")))\n",
    "b = str(int(input(\"Enter a mobile number : \")))\n",
    "c = \"My name is \"+ a +\" and My mobile number is \" + b\n",
    "print(c)\n"
   ]
  },
  {
   "cell_type": "code",
   "execution_count": 75,
   "id": "a6794c5f",
   "metadata": {},
   "outputs": [
    {
     "name": "stdout",
     "output_type": "stream",
     "text": [
      "Enter a Name : Aswartha\n",
      "Enter a mobile number : 9133888400\n",
      "My name is Aswartha and My mobile number is 9133888400\n"
     ]
    }
   ],
   "source": [
    "# Formatting\n",
    "a = input(\"Enter a Name : \")\n",
    "b = int(input(\"Enter a mobile number : \"))\n",
    "c = \"My name is {} and My mobile number is {}\".format(a, b)\n",
    "print(c)\n"
   ]
  },
  {
   "cell_type": "code",
   "execution_count": 77,
   "id": "b640a1cf",
   "metadata": {},
   "outputs": [
    {
     "name": "stdout",
     "output_type": "stream",
     "text": [
      "Enter a Name : Aswartha\n",
      "Enter a mobile number : 9133888400\n",
      "My name is Aswartha and My mobile number is 9133888400\n"
     ]
    }
   ],
   "source": [
    "# Formatting\n",
    "a = input(\"Enter a Name : \")\n",
    "b = int(input(\"Enter a mobile number : \"))\n",
    "c = f\"My name is {a} and My mobile number is {b}\"\n",
    "print(c)\n"
   ]
  },
  {
   "cell_type": "code",
   "execution_count": 85,
   "id": "28f3169e",
   "metadata": {},
   "outputs": [
    {
     "name": "stdout",
     "output_type": "stream",
     "text": [
      "Enter first value : 10\n",
      "Enter second value : 20\n",
      "This is an addition of 10 & 20 is: 30\n"
     ]
    }
   ],
   "source": [
    "a = eval(input(\"Enter first value : \"))\n",
    "b = eval(input(\"Enter second value : \"))\n",
    "c = a+b\n",
    "print(f\"This is an addition of {a} & {b} is:\", c)"
   ]
  },
  {
   "cell_type": "code",
   "execution_count": null,
   "id": "dcb7c00b",
   "metadata": {},
   "outputs": [],
   "source": []
  }
 ],
 "metadata": {
  "kernelspec": {
   "display_name": "Python 3 (ipykernel)",
   "language": "python",
   "name": "python3"
  },
  "language_info": {
   "codemirror_mode": {
    "name": "ipython",
    "version": 3
   },
   "file_extension": ".py",
   "mimetype": "text/x-python",
   "name": "python",
   "nbconvert_exporter": "python",
   "pygments_lexer": "ipython3",
   "version": "3.11.5"
  }
 },
 "nbformat": 4,
 "nbformat_minor": 5
}
